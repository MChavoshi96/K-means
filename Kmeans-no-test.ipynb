{
 "cells": [
  {
   "cell_type": "code",
   "execution_count": 1,
   "metadata": {},
   "outputs": [],
   "source": [
    "import numpy as np\n",
    "import matplotlib.pyplot as plt"
   ]
  },
  {
   "cell_type": "code",
   "execution_count": 2,
   "metadata": {},
   "outputs": [
    {
     "data": {
      "image/png": "[encoded data removed]",
      "text/plain": [
       "<Figure size 432x288 with 1 Axes>"
      ]
     },
     "metadata": {
      "needs_background": "light"
     },
     "output_type": "display_data"
    }
   ],
   "source": [
    "a = np.array ([0.1707, 0.2293])\n",
    "b = np.array ([0.2293, 0.2610])\n",
    "c = np.array ([0.2439, 0.1463])\n",
    "e = np.array ([0.7000, 0.2439])\n",
    "d = np.array ([0.6171, 0.2414])\n",
    "f = np.array ([0.6683, 0.2536])\n",
    "g = np.array ([0.7878, 0.8219])\n",
    "h = np.array ([0.8488, 0.8609])\n",
    "i = np.array ([0.8732, 0.8536])\n",
    "j = np.array ([0.6195, 0.2634])\n",
    "k = np.array ([0.3707, 0.5293])\n",
    "l = np.array ([0.4293, 0.7010])\n",
    "m = np.array ([0.4039, 0.6463])\n",
    "patterns = [a, b, c, d, e, f, g, h, i, j, k, l,m]\n",
    "names = ['a', 'b', 'c', 'd', 'e', 'f', 'g', 'h', 'i', 'j']\n",
    "for sample in patterns:\n",
    "        plt.plot(sample[0], sample[1],'bo', markersize = 8)"
   ]
  },
  {
   "cell_type": "code",
   "execution_count": 3,
   "metadata": {},
   "outputs": [],
   "source": [
    "# returns a numpy array like:\n",
    "# [[0.6683 0.2536]\n",
    "#  [0.6195 0.2634]\n",
    "#  [0.7    0.2439]]\n",
    "\n",
    "def generate_centroids(X, cluster_count):\n",
    "    np.random.RandomState(123)\n",
    "    index = np.random.permutation(X.shape[0])\n",
    "    centroids = X[index[:cluster_count]]\n",
    "    return centroids"
   ]
  },
  {
   "cell_type": "code",
   "execution_count": 4,
   "metadata": {},
   "outputs": [],
   "source": [
    "def find_closest_cluster(samples, centroids):\n",
    "    all_labels = [] # a label for each sample\n",
    "    samples = np.array(samples)\n",
    "    centroids = np.array(centroids)\n",
    "    for i in range(samples.shape[0]): # iterating over samples\n",
    "        sample = samples[i]\n",
    "        label = []\n",
    "        for j in range(centroids.shape[0]): # iterating over centroids\n",
    "            cent = centroids[j]\n",
    "            d = (sample[0]-cent[0])**2 + (sample[1]-cent[1])**2\n",
    "            label = np.append(label, d)\n",
    "        all_labels = np.append(all_labels, np.argmin(label))\n",
    "        \n",
    "    return all_labels"
   ]
  },
  {
   "cell_type": "code",
   "execution_count": 5,
   "metadata": {},
   "outputs": [],
   "source": [
    "def find_centroids(samples, labels, cluster_count):\n",
    "    samples = np.array(samples)\n",
    "    for i in range(cluster_count):\n",
    "        cent = samples[labels == i].mean(axis = 0)\n",
    "        if i == 0:\n",
    "            centroids = [cent]\n",
    "        else:\n",
    "            centroids = centroids + [cent]\n",
    "            \n",
    "    return centroids"
   ]
  },
  {
   "cell_type": "code",
   "execution_count": 6,
   "metadata": {},
   "outputs": [],
   "source": [
    "def train(cluster_count, iteration_count, samples):\n",
    "    \n",
    "    samples = np.array(samples)\n",
    "    centroids = generate_centroids(samples, cluster_count)\n",
    "    # plot initial situation\n",
    "    plt.subplot(1, 2, 1)\n",
    "    for sample in patterns:\n",
    "        plt.plot(sample[0], sample[1],'bo', markersize = 8)\n",
    "    for sample in centroids:\n",
    "        plt.plot(sample[0], sample[1],'r^')\n",
    "        \n",
    "    for i in range(iteration_count):\n",
    "        labels = find_closest_cluster(samples, centroids)\n",
    "        centroids = find_centroids(samples, labels, cluster_count)\n",
    "    \n",
    "    #plot after situation \n",
    "    plt.subplot(1, 2, 2)\n",
    "    for sample in patterns:\n",
    "        plt.plot(sample[0], sample[1],'bo', markersize = 8)\n",
    "    for sample in centroids:\n",
    "        plt.plot(sample[0], sample[1],'r^')\n",
    "    "
   ]
  },
  {
   "cell_type": "code",
   "execution_count": null,
   "metadata": {},
   "outputs": [],
   "source": [
    "def calculate_J(samples, centroids)"
   ]
  },
  {
   "cell_type": "code",
   "execution_count": 10,
   "metadata": {},
   "outputs": [
    {
     "data": {
      "image/png": "[encoded data removed]",
      "text/plain": [
       "<Figure size 432x288 with 2 Axes>"
      ]
     },
     "metadata": {
      "needs_background": "light"
     },
     "output_type": "display_data"
    }
   ],
   "source": [
    "train(4, 1000, patterns)"
   ]
  },
  {
   "cell_type": "code",
   "execution_count": null,
   "metadata": {},
   "outputs": [],
   "source": []
  }
 ],
 "metadata": {
  "kernelspec": {
   "display_name": "Python 3",
   "language": "python",
   "name": "python3"
  },
  "language_info": {
   "codemirror_mode": {
    "name": "ipython",
    "version": 3
   },
   "file_extension": ".py",
   "mimetype": "text/x-python",
   "name": "python",
   "nbconvert_exporter": "python",
   "pygments_lexer": "ipython3",
   "version": "3.7.1"
  }
 },
 "nbformat": 4,
 "nbformat_minor": 2
}
